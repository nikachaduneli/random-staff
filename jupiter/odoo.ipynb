{
 "cells": [
  {
   "cell_type": "code",
   "execution_count": null,
   "metadata": {},
   "outputs": [
    {
     "ename": "",
     "evalue": "",
     "output_type": "error",
     "traceback": [
      "\u001b[1;31mThe kernel failed to start as '_psutil_linux' could not be imported from 'most likely due to a circular import'.\n",
      "Click <a href='https://aka.ms/kernelFailuresModuleImportErrFromFile'>here</a> for more info."
     ]
    }
   ],
   "source": [
    "import pyodbc\n",
    "\n",
    "class Server:\n",
    "    def __init__(self):\n",
    "        self.server = '192.168.5.51'\n",
    "        self.db_user = 'gek'\n",
    "        self.db_password = 'giogiogio123'\n",
    "        self.db_name = 'Abacus'\n",
    "\n",
    "\n",
    "def get_server():\n",
    "    return Server()\n",
    "\n",
    "def get_abacus_data():\n",
    "    ser = get_server()\n",
    "    conne = pyodbc.connect(Driver=\"{ODBC Driver 17 for SQL Server}\",\n",
    "                           Server=\"{0},1433\".format(ser.server),\n",
    "                           Database=ser.db_name,\n",
    "                           UID=ser.db_user,\n",
    "                           PWD=ser.db_password,\n",
    "                           Trusted_Connection=\"no\")\n",
    "    with conne.cursor() as cursor:\n",
    "        cursor.execute(\"SELECT * FROM information_schema.tables\")\n",
    "        print(cursor)\n",
    "        datas = cursor.fetchall()\n",
    "        print('data', datas)\n",
    "    return datas\n",
    "    \n",
    "get_abacus_data()"
   ]
  }
 ],
 "metadata": {
  "kernelspec": {
   "display_name": "Python 3.10.5 64-bit",
   "language": "python",
   "name": "python3"
  },
  "language_info": {
   "name": "python",
   "version": "3.10.5"
  },
  "orig_nbformat": 4,
  "vscode": {
   "interpreter": {
    "hash": "97cc609b13305c559618ec78a438abc56230b9381f827f22d070313b9a1f3777"
   }
  }
 },
 "nbformat": 4,
 "nbformat_minor": 2
}
